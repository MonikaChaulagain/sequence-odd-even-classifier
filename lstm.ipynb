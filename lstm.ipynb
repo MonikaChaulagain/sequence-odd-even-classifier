{
 "cells": [
  {
   "cell_type": "code",
   "execution_count": 42,
   "id": "c8f86efe",
   "metadata": {},
   "outputs": [],
   "source": [
    "#🧬 4. Implement LSTM for Sequence Data\n",
    "#Use dummy sequential data and feed it into an LSTM.\n",
    "\n",
    "#Understand how input shape (seq_len, batch_size, input_size) affects the output.\n",
    "\n",
    "#💡 Task: Try to classify sequences with labels (e.g., even vs odd sequence sum)."
   ]
  },
  {
   "cell_type": "code",
   "execution_count": 43,
   "id": "3ce2943a",
   "metadata": {},
   "outputs": [],
   "source": [
    "import torch\n",
    "import torch.nn as nn \n",
    "from torch.utils.data import DataLoader,TensorDataset\n",
    "#import Lightning as L\n",
    "import torch.optim as optim\n",
    "\n",
    "\n",
    "\n",
    "\n"
   ]
  },
  {
   "cell_type": "code",
   "execution_count": 54,
   "id": "2eaaa4f2",
   "metadata": {},
   "outputs": [],
   "source": [
    "num_samples = 1000\n",
    "seq_len = 5\n",
    "input_size=1\n",
    "batch_size=32\n",
    "\n",
    "X = torch.randn(500, seq_len, input_size)\n",
    "X = (X - X.mean()) / X.std()\n",
    "\n",
    "y = torch.randint(0, 2, (500, 1)).float()\n",
    "\n",
    "\n",
    "dataset=TensorDataset(X,y)\n",
    "loader=DataLoader(dataset,batch_size=batch_size,shuffle=True)\n"
   ]
  },
  {
   "cell_type": "code",
   "execution_count": 55,
   "id": "ad738021",
   "metadata": {},
   "outputs": [],
   "source": [
    "class LSTMClassifier(nn.Module):\n",
    "    def __init__(self,input_size,hidden_size,num_layers):\n",
    "        super().__init__()\n",
    "        self.lstm=nn.LSTM(input_size,hidden_size,num_layers,batch_first=True)\n",
    "        self.fc=nn.Linear(hidden_size,1)\n",
    "\n",
    "    def forward(self,x):\n",
    "        out,(h_n,c_n)=self.lstm(x)\n",
    "        last_output=out[:,-1,:]\n",
    "        return self.fc(last_output)\n",
    "\n"
   ]
  },
  {
   "cell_type": "code",
   "execution_count": 56,
   "id": "610af820",
   "metadata": {},
   "outputs": [
    {
     "name": "stdout",
     "output_type": "stream",
     "text": [
      "epoch 1,loss:11.110684514045715\n",
      "epoch 2,loss:11.092850506305695\n",
      "epoch 3,loss:11.091362714767456\n",
      "epoch 4,loss:11.090440332889557\n",
      "epoch 5,loss:11.08631181716919\n",
      "epoch 6,loss:11.088316321372986\n",
      "epoch 7,loss:11.085664093494415\n",
      "epoch 8,loss:11.08597207069397\n",
      "epoch 9,loss:11.085691392421722\n",
      "epoch 10,loss:11.079637885093689\n",
      "epoch 11,loss:11.0773184299469\n",
      "epoch 12,loss:11.069089472293854\n",
      "epoch 13,loss:11.0649573802948\n",
      "epoch 14,loss:11.06541657447815\n",
      "epoch 15,loss:11.060622155666351\n",
      "epoch 16,loss:11.03732830286026\n",
      "epoch 17,loss:11.04090702533722\n",
      "epoch 18,loss:10.952589333057404\n",
      "epoch 19,loss:10.878433525562286\n",
      "epoch 20,loss:10.870392262935638\n",
      "epoch 21,loss:10.745994865894318\n",
      "epoch 22,loss:10.646596252918243\n",
      "epoch 23,loss:10.652540564537048\n",
      "epoch 24,loss:10.741423487663269\n",
      "epoch 25,loss:10.633531332015991\n",
      "epoch 26,loss:10.73569667339325\n",
      "epoch 27,loss:10.62272721529007\n",
      "epoch 28,loss:10.525530755519867\n",
      "epoch 29,loss:10.466187119483948\n",
      "epoch 30,loss:10.480441212654114\n",
      "epoch 31,loss:10.43424504995346\n",
      "epoch 32,loss:10.404673993587494\n",
      "epoch 33,loss:10.49012964963913\n",
      "epoch 34,loss:10.388891279697418\n",
      "epoch 35,loss:10.407075881958008\n",
      "epoch 36,loss:10.383775055408478\n",
      "epoch 37,loss:10.406713783740997\n",
      "epoch 38,loss:10.380976915359497\n",
      "epoch 39,loss:10.376942992210388\n",
      "epoch 40,loss:10.305640399456024\n",
      "epoch 41,loss:10.28504878282547\n",
      "epoch 42,loss:10.278058886528015\n",
      "epoch 43,loss:10.440577208995819\n",
      "epoch 44,loss:10.250078082084656\n",
      "epoch 45,loss:10.400430083274841\n",
      "epoch 46,loss:10.222438097000122\n",
      "epoch 47,loss:10.263077020645142\n",
      "epoch 48,loss:10.140404224395752\n",
      "epoch 49,loss:10.141951441764832\n",
      "epoch 50,loss:10.19596791267395\n",
      "epoch 51,loss:10.195715010166168\n",
      "epoch 52,loss:10.12433272600174\n",
      "epoch 53,loss:10.018892914056778\n",
      "epoch 54,loss:10.151556849479675\n",
      "epoch 55,loss:10.043732643127441\n",
      "epoch 56,loss:9.998262166976929\n",
      "epoch 57,loss:9.879700124263763\n",
      "epoch 58,loss:9.71517926454544\n",
      "epoch 59,loss:9.724553674459457\n",
      "epoch 60,loss:9.729173928499222\n",
      "epoch 61,loss:9.557567477226257\n",
      "epoch 62,loss:9.632933735847473\n",
      "epoch 63,loss:9.49618923664093\n",
      "epoch 64,loss:9.312804341316223\n",
      "epoch 65,loss:9.25327554345131\n",
      "epoch 66,loss:9.045483887195587\n",
      "epoch 67,loss:9.037905842065811\n",
      "epoch 68,loss:9.018081843852997\n",
      "epoch 69,loss:8.98753672838211\n",
      "epoch 70,loss:8.773298859596252\n",
      "epoch 71,loss:8.637428879737854\n",
      "epoch 72,loss:8.376866221427917\n",
      "epoch 73,loss:8.64029711484909\n",
      "epoch 74,loss:8.366462677717209\n",
      "epoch 75,loss:8.248533457517624\n",
      "epoch 76,loss:8.020294189453125\n",
      "epoch 77,loss:7.8341284096241\n",
      "epoch 78,loss:7.635528773069382\n",
      "epoch 79,loss:7.479883164167404\n",
      "epoch 80,loss:7.297150790691376\n",
      "epoch 81,loss:7.151275336742401\n",
      "epoch 82,loss:7.029933869838715\n",
      "epoch 83,loss:6.5942844450473785\n",
      "epoch 84,loss:6.228752970695496\n",
      "epoch 85,loss:5.957991659641266\n",
      "epoch 86,loss:5.753076404333115\n",
      "epoch 87,loss:5.327038139104843\n",
      "epoch 88,loss:5.239846020936966\n",
      "epoch 89,loss:4.787044033408165\n",
      "epoch 90,loss:4.767468824982643\n",
      "epoch 91,loss:4.275862634181976\n",
      "epoch 92,loss:3.8787980675697327\n",
      "epoch 93,loss:3.8121493756771088\n",
      "epoch 94,loss:3.7607884854078293\n",
      "epoch 95,loss:3.5236996561288834\n",
      "epoch 96,loss:3.137794703245163\n",
      "epoch 97,loss:3.0812424421310425\n",
      "epoch 98,loss:2.745569832623005\n",
      "epoch 99,loss:2.4936012625694275\n",
      "epoch 100,loss:2.371316120028496\n"
     ]
    }
   ],
   "source": [
    "model=LSTMClassifier(input_size=1,hidden_size=128,num_layers=2)\n",
    "criterion=nn.BCEWithLogitsLoss()\n",
    "optimizer=torch.optim.Adam(model.parameters(),lr=0.001)\n",
    "\n",
    "for epoch in range (100):\n",
    "    total_loss=0\n",
    "    for batch_x,batch_y in loader:\n",
    "        optimizer.zero_grad()\n",
    "        logits=model(batch_x)\n",
    "\n",
    "        batch_y = batch_y.float()\n",
    "        if batch_y.dim() == 1:\n",
    "            batch_y = batch_y.unsqueeze(1)\n",
    "        \n",
    "       \n",
    "\n",
    "        loss=criterion(logits,batch_y)\n",
    "\n",
    "        \n",
    "        loss.backward()\n",
    "        optimizer.step()\n",
    "\n",
    "        total_loss+=loss.item()\n",
    "    print(f\"epoch {epoch+1},loss:{total_loss}\")"
   ]
  },
  {
   "cell_type": "code",
   "execution_count": 47,
   "id": "2c028638",
   "metadata": {},
   "outputs": [
    {
     "name": "stdout",
     "output_type": "stream",
     "text": [
      "predictiion():even,1:odd): 0\n"
     ]
    }
   ],
   "source": [
    "test_seq=torch.tensor([[1.,2.,3.,4.,5.]]).unsqueeze(-1)\n",
    "pred=model(test_seq)\n",
    "print(\"predictiion():even,1:odd):\",int(pred.item()>0.5))"
   ]
  },
  {
   "cell_type": "code",
   "execution_count": 48,
   "id": "1a491d54",
   "metadata": {},
   "outputs": [
    {
     "name": "stdout",
     "output_type": "stream",
     "text": [
      "Prediction (probability of odd): -0.9195899367332458\n",
      "Predicted class: 0\n"
     ]
    }
   ],
   "source": [
    "# Evaluate on some samples\n",
    "model.eval()\n",
    "with torch.no_grad():\n",
    "    sample = torch.tensor([[1, 2, 3, 4, 5]]).float().unsqueeze(-1)  # [1, 5, 1]\n",
    "    pred = model(sample)\n",
    "    print(\"Prediction (probability of odd):\", pred.item())\n",
    "    print(\"Predicted class:\", int(pred.item() > 0.5))  # 0 for even, 1 for odd\n"
   ]
  }
 ],
 "metadata": {
  "kernelspec": {
   "display_name": "venvtorch",
   "language": "python",
   "name": "python3"
  },
  "language_info": {
   "codemirror_mode": {
    "name": "ipython",
    "version": 3
   },
   "file_extension": ".py",
   "mimetype": "text/x-python",
   "name": "python",
   "nbconvert_exporter": "python",
   "pygments_lexer": "ipython3",
   "version": "3.13.5"
  }
 },
 "nbformat": 4,
 "nbformat_minor": 5
}
